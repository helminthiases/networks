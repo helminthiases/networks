{
 "cells": [
  {
   "cell_type": "markdown",
   "id": "5ac22dd2-160a-4642-b59e-3b5d37215cf1",
   "metadata": {},
   "source": [
    "Determining equivalent [ESPEN](https://espen.afro.who.int) (Expanded Special Project for Elimination of Neglected Tropical Diseases) soil transmitted helminth examinations locations via graph networks; using NetworkX.\n",
    "\n",
    "<br>"
   ]
  },
  {
   "cell_type": "markdown",
   "id": "ffb79bd5-865c-41ab-bfc9-ee12aa249f90",
   "metadata": {},
   "source": [
    "# Preliminaries"
   ]
  },
  {
   "cell_type": "markdown",
   "id": "17a3ee6f-eb20-4fe8-882b-312a48668979",
   "metadata": {},
   "source": [
    "## Libraries"
   ]
  },
  {
   "cell_type": "code",
   "execution_count": 1,
   "id": "b48c160e-bf40-4ca4-8810-acd3e83f2718",
   "metadata": {},
   "outputs": [],
   "source": [
    "import os\n",
    "import pathlib\n",
    "import sys\n",
    "\n",
    "import pandas as pd\n",
    "import numpy as np\n",
    "\n",
    "import networkx as nx\n",
    "import matplotlib.pyplot as plt"
   ]
  },
  {
   "cell_type": "markdown",
   "id": "abf31a33-0957-4c74-a411-0c94579f3c23",
   "metadata": {},
   "source": [
    "<br>\n",
    "<br>\n",
    "\n",
    "# NetworkX: Vertices, Edges, & Connected Components"
   ]
  },
  {
   "cell_type": "code",
   "execution_count": 2,
   "id": "d46032de-1ac4-45fe-bcf9-51048f46eb9e",
   "metadata": {},
   "outputs": [],
   "source": [
    "G = nx.Graph()\n",
    "G.add_edges_from([(1, 2), (1, 3), (3, 5), (4, 6), (6, 9), (8, 9), (11, 11)])"
   ]
  },
  {
   "cell_type": "markdown",
   "id": "0a54eaa2-a87e-48cd-ab0a-0478bbeb24fc",
   "metadata": {},
   "source": [
    "<br>\n",
    "\n",
    "The nodes, and the number of nodes."
   ]
  },
  {
   "cell_type": "code",
   "execution_count": 3,
   "id": "d615cfd7-0f37-4352-a9d4-702603d1590a",
   "metadata": {},
   "outputs": [
    {
     "name": "stdout",
     "output_type": "stream",
     "text": [
      "The nodes: [1, 2, 3, 5, 4, 6, 9, 8, 11]\n"
     ]
    }
   ],
   "source": [
    "print(f'The nodes: {list(G.nodes)}')"
   ]
  },
  {
   "cell_type": "code",
   "execution_count": 4,
   "id": "5768f87e-0ee0-4be7-b1da-3ff6be74bd0c",
   "metadata": {},
   "outputs": [
    {
     "name": "stdout",
     "output_type": "stream",
     "text": [
      "# of nodes: 9\n"
     ]
    }
   ],
   "source": [
    "print(f'# of nodes: {G.number_of_nodes()}')"
   ]
  },
  {
   "cell_type": "markdown",
   "id": "b4e7cb7c-c361-4f2e-80ea-1b09828b3ba6",
   "metadata": {},
   "source": [
    "<br>\n",
    "\n",
    "The edges, ad the number of edges"
   ]
  },
  {
   "cell_type": "code",
   "execution_count": 5,
   "id": "1b84e0de-a8c5-4be9-9f4c-48b845facff0",
   "metadata": {},
   "outputs": [
    {
     "name": "stdout",
     "output_type": "stream",
     "text": [
      "The edges: [(1, 2), (1, 3), (3, 5), (4, 6), (6, 9), (9, 8), (11, 11)]\n"
     ]
    }
   ],
   "source": [
    "print(f'The edges: {list(G.edges)}')"
   ]
  },
  {
   "cell_type": "code",
   "execution_count": 6,
   "id": "e5cbddfe-7ee9-408a-84d8-39c779ec6339",
   "metadata": {},
   "outputs": [
    {
     "name": "stdout",
     "output_type": "stream",
     "text": [
      "# of edges: 7\n"
     ]
    }
   ],
   "source": [
    "print(f'# of edges: {G.number_of_edges()}')"
   ]
  },
  {
   "cell_type": "markdown",
   "id": "95d05dde-0cb6-47c3-946d-0803912fedfe",
   "metadata": {},
   "source": [
    "<br>\n",
    "\n",
    "The connected components"
   ]
  },
  {
   "cell_type": "code",
   "execution_count": 7,
   "id": "f3f97c4a-5f8b-45f6-b372-9277fda70710",
   "metadata": {},
   "outputs": [
    {
     "name": "stdout",
     "output_type": "stream",
     "text": [
      "The connected components: [{1, 2, 3, 5}, {8, 9, 4, 6}, {11}]\n"
     ]
    },
    {
     "data": {
      "image/png": "[encoded data removed]",
      "text/plain": [
       "<Figure size 432x288 with 1 Axes>"
      ]
     },
     "metadata": {},
     "output_type": "display_data"
    }
   ],
   "source": [
    "print(f'The connected components: {list(nx.connected_components(G))}')\n",
    "\n",
    "nx.draw(G, with_labels=True, font_weight='bold')"
   ]
  },
  {
   "cell_type": "markdown",
   "id": "7083437f-572f-46a2-9a98-211cc3734acf",
   "metadata": {},
   "source": [
    "<br>\n",
    "<br>\n",
    "\n",
    "# Determining Equivalent Geographic Points"
   ]
  },
  {
   "cell_type": "markdown",
   "id": "c0d16300-8552-43d0-8bb1-7ef207571f1a",
   "metadata": {},
   "source": [
    "A key set of issues, in relation to site identification codes of the ESPEN data sets, are\n",
    "\n",
    "* Survey sites that have the same co&ouml;rdinate values have different site identification codes.\n",
    "\n",
    "* Survey sites whose longitude or latitude values differ by fractions of a point, e.g., <br>\n",
    "\n",
    "longitude | latitude\n",
    ":--- | :---\n",
    "33.87212 | -2.031722\n",
    "33.872115 | -2.0317217\n",
    "\n",
    "&nbsp; &nbsp; &nbsp; &nbsp; can have different site identification codes.\n",
    "\n",
    "* Many observations do not have a site identification code.\n",
    "\n",
    "The aim herein is to determine which co&ouml;rdinate points are more or less equivalent, and subsequently generate identification codes.  [At present](https://github.com/helminthiases/infections/blob/develop/config.py#L28), if $\\lfloor \\text{linear distance} \\rfloor = 0$ between an observation point and its nearest point, then the points are equivalent.  The co&ouml;rdinates undergo [EPSG:3587](https://epsg.io/3857) transformation prior to distance calculations, hence the distance unit of meausre is metres.  \n",
    "\n"
   ]
  },
  {
   "cell_type": "markdown",
   "id": "4213eeb5-9d4a-4f88-9590-acf2d76f74ce",
   "metadata": {},
   "source": [
    "<br>\n",
    "\n",
    "Each observation within the data sets of [helminthiases/infections/tree/develop/warehouse/data/ESPEN/networks/edges](https://github.com/helminthiases/infections/tree/develop/warehouse/data/ESPEN/networks/edges) includes the variables `src` & `dst`.  `src` is a *temporary observation identifier*, whilst `dst` is the *temporary observation identifier* of the nearest observation"
   ]
  },
  {
   "cell_type": "markdown",
   "id": "d2602d7a-fec4-4c9d-be29-a9b082e0bb22",
   "metadata": {},
   "source": [
    "$$\n",
    "\\textit{dst identifier} =\n",
    "\\begin{cases}\n",
    "\\textit{nearest observation identifier}, & \\text{if } \\lfloor\\text{linear distance}\\rfloor = 0 \\\\\n",
    "\\textit{src identifier}, & \\text{if } \\lfloor\\text{linear distance}\\rfloor > 0\n",
    "\\end{cases}\n",
    "$$"
   ]
  },
  {
   "cell_type": "markdown",
   "id": "debd5fb4-8930-48fe-8170-50284d8f539f",
   "metadata": {},
   "source": [
    "Wherein **linear distance** is the distance between an observation and its nearest observation. "
   ]
  },
  {
   "cell_type": "markdown",
   "id": "651075af-e1c4-4b29-9b96-3b34656fef45",
   "metadata": {},
   "source": [
    "<br>\n",
    "<br>\n",
    "\n",
    "## Points & Lines"
   ]
  },
  {
   "cell_type": "markdown",
   "id": "77719cfd-e1cc-447b-b630-fc9157bee96c",
   "metadata": {},
   "source": [
    "If the entire [helminthiases hub](https://github.com/helminthiases) is available locally, then the data files in question will be available within\n",
    "\n",
    "> `os.path.join(hub, 'infections', 'warehouse', 'data', 'ESPEN', 'networks', 'edges')`\n"
   ]
  },
  {
   "cell_type": "code",
   "execution_count": 8,
   "id": "4e571cac-86e7-4c18-ac99-59a86499755c",
   "metadata": {},
   "outputs": [
    {
     "data": {
      "text/plain": [
       "'helminthiases'"
      ]
     },
     "execution_count": 8,
     "metadata": {},
     "output_type": "execute_result"
    }
   ],
   "source": [
    "parent = str(pathlib.Path(os.getcwd()).parent)\n",
    "hub = os.path.dirname(parent)\n",
    "os.path.basename(hub)"
   ]
  },
  {
   "cell_type": "markdown",
   "id": "73728c7d-be04-402f-a6a1-d66727a67088",
   "metadata": {},
   "source": [
    "<br>\n",
    "\n",
    "An experiments data set"
   ]
  },
  {
   "cell_type": "code",
   "execution_count": 9,
   "id": "6fa9ce40-51df-4eb3-8c2e-93cb24af191e",
   "metadata": {},
   "outputs": [
    {
     "data": {
      "text/plain": [
       "Index(['iso3', 'iso2', 'admin1_id', 'admin2_id', 'iu_id', 'site_id',\n",
       "       'longitude', 'latitude', 'georeliability', 'location_type',\n",
       "       'survey_type', 'year', 'age_start', 'age_end', 'hk_examined',\n",
       "       'hk_positive', 'asc_examined', 'asc_positive', 'tt_examined',\n",
       "       'tt_positive', 'quality', 'sn', 'hk_prevalence', 'asc_prevalence',\n",
       "       'tt_prevalence', 'sth_prevalence', 'shortest', 'id', 'src', 'dst'],\n",
       "      dtype='object')"
      ]
     },
     "execution_count": 9,
     "metadata": {},
     "output_type": "execute_result"
    }
   ],
   "source": [
    "url = 'https://raw.githubusercontent.com/helminthiases/infections/develop/warehouse/data/ESPEN/experiments/reduced/TZ.csv'\n",
    "frame = pd.read_csv(filepath_or_buffer=url, header=0, encoding='utf-8')\n",
    "frame.drop(columns='identifier', inplace=True)\n",
    "frame.columns"
   ]
  },
  {
   "cell_type": "markdown",
   "id": "dc5d31d7-e305-4d49-a018-fa96785d8727",
   "metadata": {},
   "source": [
    "<br>\n",
    "\n",
    "Using a few columns, and noting that $\\; src \\equiv id$"
   ]
  },
  {
   "cell_type": "code",
   "execution_count": 10,
   "id": "53f515ae-9cb8-4fd5-9ea8-cdd686903105",
   "metadata": {},
   "outputs": [
    {
     "data": {
      "text/html": [
       "<div>\n",
       "<style scoped>\n",
       "    .dataframe tbody tr th:only-of-type {\n",
       "        vertical-align: middle;\n",
       "    }\n",
       "\n",
       "    .dataframe tbody tr th {\n",
       "        vertical-align: top;\n",
       "    }\n",
       "\n",
       "    .dataframe thead th {\n",
       "        text-align: right;\n",
       "    }\n",
       "</style>\n",
       "<table border=\"1\" class=\"dataframe\">\n",
       "  <thead>\n",
       "    <tr style=\"text-align: right;\">\n",
       "      <th></th>\n",
       "      <th>longitude</th>\n",
       "      <th>latitude</th>\n",
       "      <th>georeliability</th>\n",
       "      <th>shortest</th>\n",
       "      <th>id</th>\n",
       "      <th>src</th>\n",
       "      <th>dst</th>\n",
       "    </tr>\n",
       "  </thead>\n",
       "  <tbody>\n",
       "    <tr>\n",
       "      <th>0</th>\n",
       "      <td>34.284892</td>\n",
       "      <td>-1.387712</td>\n",
       "      <td>3</td>\n",
       "      <td>4366.461723</td>\n",
       "      <td>0</td>\n",
       "      <td>0</td>\n",
       "      <td>0</td>\n",
       "    </tr>\n",
       "    <tr>\n",
       "      <th>1</th>\n",
       "      <td>32.078701</td>\n",
       "      <td>-5.079600</td>\n",
       "      <td>3</td>\n",
       "      <td>8973.961518</td>\n",
       "      <td>1</td>\n",
       "      <td>1</td>\n",
       "      <td>1</td>\n",
       "    </tr>\n",
       "    <tr>\n",
       "      <th>2</th>\n",
       "      <td>33.650000</td>\n",
       "      <td>-2.466667</td>\n",
       "      <td>1</td>\n",
       "      <td>6339.104344</td>\n",
       "      <td>3</td>\n",
       "      <td>3</td>\n",
       "      <td>3</td>\n",
       "    </tr>\n",
       "    <tr>\n",
       "      <th>3</th>\n",
       "      <td>29.619103</td>\n",
       "      <td>-4.898798</td>\n",
       "      <td>3</td>\n",
       "      <td>0.000000</td>\n",
       "      <td>5</td>\n",
       "      <td>5</td>\n",
       "      <td>6</td>\n",
       "    </tr>\n",
       "    <tr>\n",
       "      <th>4</th>\n",
       "      <td>29.619103</td>\n",
       "      <td>-4.898798</td>\n",
       "      <td>3</td>\n",
       "      <td>0.000000</td>\n",
       "      <td>6</td>\n",
       "      <td>6</td>\n",
       "      <td>5</td>\n",
       "    </tr>\n",
       "    <tr>\n",
       "      <th>5</th>\n",
       "      <td>38.340321</td>\n",
       "      <td>-6.225760</td>\n",
       "      <td>4</td>\n",
       "      <td>287.112621</td>\n",
       "      <td>10</td>\n",
       "      <td>10</td>\n",
       "      <td>10</td>\n",
       "    </tr>\n",
       "    <tr>\n",
       "      <th>6</th>\n",
       "      <td>29.619103</td>\n",
       "      <td>-4.898798</td>\n",
       "      <td>3</td>\n",
       "      <td>0.000000</td>\n",
       "      <td>12</td>\n",
       "      <td>12</td>\n",
       "      <td>5</td>\n",
       "    </tr>\n",
       "    <tr>\n",
       "      <th>7</th>\n",
       "      <td>39.799000</td>\n",
       "      <td>-7.850000</td>\n",
       "      <td>3</td>\n",
       "      <td>14422.968995</td>\n",
       "      <td>13</td>\n",
       "      <td>13</td>\n",
       "      <td>13</td>\n",
       "    </tr>\n",
       "    <tr>\n",
       "      <th>8</th>\n",
       "      <td>33.872120</td>\n",
       "      <td>-2.031722</td>\n",
       "      <td>3</td>\n",
       "      <td>0.557600</td>\n",
       "      <td>14</td>\n",
       "      <td>14</td>\n",
       "      <td>15</td>\n",
       "    </tr>\n",
       "  </tbody>\n",
       "</table>\n",
       "</div>"
      ],
      "text/plain": [
       "   longitude  latitude  georeliability      shortest  id  src  dst\n",
       "0  34.284892 -1.387712               3   4366.461723   0    0    0\n",
       "1  32.078701 -5.079600               3   8973.961518   1    1    1\n",
       "2  33.650000 -2.466667               1   6339.104344   3    3    3\n",
       "3  29.619103 -4.898798               3      0.000000   5    5    6\n",
       "4  29.619103 -4.898798               3      0.000000   6    6    5\n",
       "5  38.340321 -6.225760               4    287.112621  10   10   10\n",
       "6  29.619103 -4.898798               3      0.000000  12   12    5\n",
       "7  39.799000 -7.850000               3  14422.968995  13   13   13\n",
       "8  33.872120 -2.031722               3      0.557600  14   14   15"
      ]
     },
     "execution_count": 10,
     "metadata": {},
     "output_type": "execute_result"
    }
   ],
   "source": [
    "excerpt = frame[['longitude', 'latitude', 'georeliability', 'shortest', 'id', 'src', 'dst']]\n",
    "excerpt.head(9)"
   ]
  },
  {
   "cell_type": "markdown",
   "id": "7965c013-6049-45d2-9c0f-2dcdadc6ce41",
   "metadata": {},
   "source": [
    "<br>\n",
    "<br>\n",
    "\n",
    "## Networks"
   ]
  },
  {
   "cell_type": "code",
   "execution_count": 11,
   "id": "a2914401-3210-4a21-9173-df8632618937",
   "metadata": {},
   "outputs": [],
   "source": [
    "connections = nx.from_pandas_edgelist(excerpt, source='src', target='dst')"
   ]
  },
  {
   "cell_type": "markdown",
   "id": "fa13ba73-6ae4-44e5-bea7-1810cc29740c",
   "metadata": {},
   "source": [
    "<br>\n",
    "\n",
    "Note:\n",
    "\n",
    "* Nodes: `connections.nodes`\n",
    "* Edges: `connections.edges`"
   ]
  },
  {
   "cell_type": "code",
   "execution_count": 12,
   "id": "d3989b72-b9c3-4c06-9dc2-4eec00e22672",
   "metadata": {},
   "outputs": [
    {
     "data": {
      "text/plain": [
       "[(0, 0),\n",
       " (1, 1),\n",
       " (3, 3),\n",
       " (5, 6),\n",
       " (5, 12),\n",
       " (10, 10),\n",
       " (13, 13),\n",
       " (14, 15),\n",
       " (16, 16),\n",
       " (17, 678),\n",
       " (18, 1013),\n",
       " (19, 19),\n",
       " (20, 20),\n",
       " (22, 22),\n",
       " (26, 26),\n",
       " (29, 890),\n",
       " (32, 32),\n",
       " (33, 33),\n",
       " (34, 34),\n",
       " (35, 35),\n",
       " (36, 36),\n",
       " (37, 37),\n",
       " (38, 38),\n",
       " (39, 39),\n",
       " (40, 41),\n",
       " (40, 42),\n",
       " (47, 47)]"
      ]
     },
     "execution_count": 12,
     "metadata": {},
     "output_type": "execute_result"
    }
   ],
   "source": [
    "list(connections.edges)[:27]"
   ]
  },
  {
   "cell_type": "markdown",
   "id": "4ce6d061-1a1c-4c03-bfc0-81d8e044ee55",
   "metadata": {},
   "source": [
    "<br>\n",
    "\n",
    "**Connected Components**: Considering the data & edges previews above, it is expected that\n",
    "\n",
    "* 5, 6, and 12 will belong to the same connected component\n",
    "* 40, 41, and 42 will belong to the same connected component\n",
    "* etc.\n",
    "\n"
   ]
  },
  {
   "cell_type": "code",
   "execution_count": 13,
   "id": "9ac9dfd9-7d12-46f7-81c2-3c8827f1ac86",
   "metadata": {},
   "outputs": [],
   "source": [
    "components = list(nx.connected_components(connections))"
   ]
  },
  {
   "cell_type": "code",
   "execution_count": 14,
   "id": "8cbcf965-de3a-4bc8-b2fe-7e0216eceb1e",
   "metadata": {},
   "outputs": [
    {
     "data": {
      "text/plain": [
       "[{0}, {1}, {3}, {5, 6, 12}, {10}, {13}, {14, 15}, {16}, {17, 678}]"
      ]
     },
     "execution_count": 14,
     "metadata": {},
     "output_type": "execute_result"
    }
   ],
   "source": [
    "components[:9]"
   ]
  },
  {
   "cell_type": "markdown",
   "id": "fb9367dd-fe4f-496a-8c43-395e035a33b1",
   "metadata": {},
   "source": [
    "<br>\n",
    "\n",
    "**A sample**"
   ]
  },
  {
   "cell_type": "code",
   "execution_count": 15,
   "id": "ff4cc7b4-ae09-4d03-ac28-e8a514baf16c",
   "metadata": {},
   "outputs": [
    {
     "name": "stdout",
     "output_type": "stream",
     "text": [
      "The connected components: [{0}, {1}, {3}, {12, 5, 6}, {10}, {13}, {14, 15}, {16}, {17, 678}, {18, 1013}, {19}, {20}, {22}, {26}, {890, 29}, {32}, {33}, {34}, {35}, {36}, {37}, {38}, {39}, {40, 41, 42}, {47}, {50}, {51, 52}, {56}, {515, 60}, {63}, {64}, {65}, {71}, {72, 110}, {73}, {904, 74}, {75}, {120, 76}, {77}, {78}, {81}, {82}, {155, 85}, {88}]\n"
     ]
    },
    {
     "data": {
      "image/png": "[encoded data removed]",
      "text/plain": [
       "<Figure size 432x288 with 1 Axes>"
      ]
     },
     "metadata": {},
     "output_type": "display_data"
    }
   ],
   "source": [
    "sample = excerpt.iloc[:50,]\n",
    "nets = nx.from_pandas_edgelist(sample, source='src', target='dst')\n",
    "print(f'The connected components: {list(nx.connected_components(nets))}')\n",
    "nx.draw(nets, with_labels=True, font_weight='bold')"
   ]
  },
  {
   "cell_type": "markdown",
   "id": "658469e2-0afb-4a54-9d96-c2a5e6c1a2b4",
   "metadata": {},
   "source": [
    "<br>\n",
    "<br>\n",
    "\n",
    "## Generating Identification Codes"
   ]
  },
  {
   "cell_type": "code",
   "execution_count": 16,
   "id": "fa3bd87a-0815-4f4b-b14a-de2e54130b3b",
   "metadata": {},
   "outputs": [
    {
     "data": {
      "text/plain": [
       "list"
      ]
     },
     "execution_count": 16,
     "metadata": {},
     "output_type": "execute_result"
    }
   ],
   "source": [
    "type(components)"
   ]
  },
  {
   "cell_type": "markdown",
   "id": "1f8b516d-732d-4d62-ac45-3322290da797",
   "metadata": {},
   "source": [
    "<br>\n",
    "\n",
    "Setting-up the components within a data frame."
   ]
  },
  {
   "cell_type": "code",
   "execution_count": 17,
   "id": "28bf7887-ba4f-4337-9738-ff8e50b80909",
   "metadata": {},
   "outputs": [
    {
     "data": {
      "text/html": [
       "<div>\n",
       "<style scoped>\n",
       "    .dataframe tbody tr th:only-of-type {\n",
       "        vertical-align: middle;\n",
       "    }\n",
       "\n",
       "    .dataframe tbody tr th {\n",
       "        vertical-align: top;\n",
       "    }\n",
       "\n",
       "    .dataframe thead th {\n",
       "        text-align: right;\n",
       "    }\n",
       "</style>\n",
       "<table border=\"1\" class=\"dataframe\">\n",
       "  <thead>\n",
       "    <tr style=\"text-align: right;\">\n",
       "      <th></th>\n",
       "      <th>component</th>\n",
       "    </tr>\n",
       "  </thead>\n",
       "  <tbody>\n",
       "    <tr>\n",
       "      <th>0</th>\n",
       "      <td>{0}</td>\n",
       "    </tr>\n",
       "    <tr>\n",
       "      <th>1</th>\n",
       "      <td>{1}</td>\n",
       "    </tr>\n",
       "    <tr>\n",
       "      <th>2</th>\n",
       "      <td>{3}</td>\n",
       "    </tr>\n",
       "    <tr>\n",
       "      <th>3</th>\n",
       "      <td>{12, 5, 6}</td>\n",
       "    </tr>\n",
       "    <tr>\n",
       "      <th>4</th>\n",
       "      <td>{10}</td>\n",
       "    </tr>\n",
       "  </tbody>\n",
       "</table>\n",
       "</div>"
      ],
      "text/plain": [
       "    component\n",
       "0         {0}\n",
       "1         {1}\n",
       "2         {3}\n",
       "3  {12, 5, 6}\n",
       "4        {10}"
      ]
     },
     "execution_count": 17,
     "metadata": {},
     "output_type": "execute_result"
    }
   ],
   "source": [
    "sample = pd.DataFrame(data = {'component': components})\n",
    "sample.head()"
   ]
  },
  {
   "cell_type": "markdown",
   "id": "bc9737c2-70ac-4ebc-8fee-a1081dd5fb50",
   "metadata": {},
   "source": [
    "<br>\n",
    "\n",
    "Hence, assigning identification codes to each set of components."
   ]
  },
  {
   "cell_type": "code",
   "execution_count": 18,
   "id": "f2eb5c9d-aa2c-4566-bfab-087f1d90cbdc",
   "metadata": {},
   "outputs": [
    {
     "data": {
      "text/html": [
       "<div>\n",
       "<style scoped>\n",
       "    .dataframe tbody tr th:only-of-type {\n",
       "        vertical-align: middle;\n",
       "    }\n",
       "\n",
       "    .dataframe tbody tr th {\n",
       "        vertical-align: top;\n",
       "    }\n",
       "\n",
       "    .dataframe thead th {\n",
       "        text-align: right;\n",
       "    }\n",
       "</style>\n",
       "<table border=\"1\" class=\"dataframe\">\n",
       "  <thead>\n",
       "    <tr style=\"text-align: right;\">\n",
       "      <th></th>\n",
       "      <th>component</th>\n",
       "      <th>identifier</th>\n",
       "    </tr>\n",
       "  </thead>\n",
       "  <tbody>\n",
       "    <tr>\n",
       "      <th>0</th>\n",
       "      <td>0</td>\n",
       "      <td>1</td>\n",
       "    </tr>\n",
       "    <tr>\n",
       "      <th>1</th>\n",
       "      <td>1</td>\n",
       "      <td>2</td>\n",
       "    </tr>\n",
       "    <tr>\n",
       "      <th>2</th>\n",
       "      <td>3</td>\n",
       "      <td>3</td>\n",
       "    </tr>\n",
       "    <tr>\n",
       "      <th>3</th>\n",
       "      <td>12</td>\n",
       "      <td>4</td>\n",
       "    </tr>\n",
       "    <tr>\n",
       "      <th>4</th>\n",
       "      <td>5</td>\n",
       "      <td>4</td>\n",
       "    </tr>\n",
       "  </tbody>\n",
       "</table>\n",
       "</div>"
      ],
      "text/plain": [
       "   component  identifier\n",
       "0          0           1\n",
       "1          1           2\n",
       "2          3           3\n",
       "3         12           4\n",
       "4          5           4"
      ]
     },
     "execution_count": 18,
     "metadata": {},
     "output_type": "execute_result"
    }
   ],
   "source": [
    "sample.loc[:, 'identifier'] = np.linspace(start=1, stop=sample.shape[0], num=sample.shape[0], endpoint=True, dtype=np.int64)\n",
    "sample = sample.explode(column='component', ignore_index=True)\n",
    "sample.loc[:, 'component'] = sample['component'].astype(np.int64, errors='raise').values\n",
    "sample.head()"
   ]
  },
  {
   "cell_type": "markdown",
   "id": "ec8d9d2d-e354-47a6-b8d7-c7cb0603750c",
   "metadata": {},
   "source": [
    "<br>\n",
    "\n",
    "Re-naming the `component` field to `id`, for data merging purposes."
   ]
  },
  {
   "cell_type": "code",
   "execution_count": 19,
   "id": "5a66bbd5-a25b-4d66-8a8a-4ba257997bb3",
   "metadata": {},
   "outputs": [
    {
     "data": {
      "text/html": [
       "<div>\n",
       "<style scoped>\n",
       "    .dataframe tbody tr th:only-of-type {\n",
       "        vertical-align: middle;\n",
       "    }\n",
       "\n",
       "    .dataframe tbody tr th {\n",
       "        vertical-align: top;\n",
       "    }\n",
       "\n",
       "    .dataframe thead th {\n",
       "        text-align: right;\n",
       "    }\n",
       "</style>\n",
       "<table border=\"1\" class=\"dataframe\">\n",
       "  <thead>\n",
       "    <tr style=\"text-align: right;\">\n",
       "      <th></th>\n",
       "      <th>id</th>\n",
       "      <th>identifier</th>\n",
       "    </tr>\n",
       "  </thead>\n",
       "  <tbody>\n",
       "    <tr>\n",
       "      <th>0</th>\n",
       "      <td>0</td>\n",
       "      <td>1</td>\n",
       "    </tr>\n",
       "    <tr>\n",
       "      <th>1</th>\n",
       "      <td>1</td>\n",
       "      <td>2</td>\n",
       "    </tr>\n",
       "    <tr>\n",
       "      <th>2</th>\n",
       "      <td>3</td>\n",
       "      <td>3</td>\n",
       "    </tr>\n",
       "    <tr>\n",
       "      <th>3</th>\n",
       "      <td>12</td>\n",
       "      <td>4</td>\n",
       "    </tr>\n",
       "    <tr>\n",
       "      <th>4</th>\n",
       "      <td>5</td>\n",
       "      <td>4</td>\n",
       "    </tr>\n",
       "  </tbody>\n",
       "</table>\n",
       "</div>"
      ],
      "text/plain": [
       "   id  identifier\n",
       "0   0           1\n",
       "1   1           2\n",
       "2   3           3\n",
       "3  12           4\n",
       "4   5           4"
      ]
     },
     "execution_count": 19,
     "metadata": {},
     "output_type": "execute_result"
    }
   ],
   "source": [
    "sample.rename(columns={'component': 'id'}, inplace=True)\n",
    "sample.head()"
   ]
  },
  {
   "cell_type": "markdown",
   "id": "521df2c3-5e67-4e43-9841-35ab03cb8419",
   "metadata": {},
   "source": [
    "<br>\n",
    "<br>\n",
    "\n",
    "## Join/Merge"
   ]
  },
  {
   "cell_type": "markdown",
   "id": "1a2fa7ed-7b91-4653-bf97-ff453c17a932",
   "metadata": {},
   "source": [
    "Herein, we assign the new identification codes to each observation of the experiments data set.  This is done by merging\n",
    "\n",
    "* `excerpt` & `sample`, or\n",
    "* `frame` & `sample`\n",
    "\n",
    "via field `id`.\n"
   ]
  },
  {
   "cell_type": "code",
   "execution_count": 20,
   "id": "f13d7478-3fa3-46f5-b2d9-a7997edd736e",
   "metadata": {},
   "outputs": [
    {
     "data": {
      "text/html": [
       "<div>\n",
       "<style scoped>\n",
       "    .dataframe tbody tr th:only-of-type {\n",
       "        vertical-align: middle;\n",
       "    }\n",
       "\n",
       "    .dataframe tbody tr th {\n",
       "        vertical-align: top;\n",
       "    }\n",
       "\n",
       "    .dataframe thead th {\n",
       "        text-align: right;\n",
       "    }\n",
       "</style>\n",
       "<table border=\"1\" class=\"dataframe\">\n",
       "  <thead>\n",
       "    <tr style=\"text-align: right;\">\n",
       "      <th></th>\n",
       "      <th>longitude</th>\n",
       "      <th>latitude</th>\n",
       "      <th>georeliability</th>\n",
       "      <th>shortest</th>\n",
       "      <th>id</th>\n",
       "      <th>src</th>\n",
       "      <th>dst</th>\n",
       "      <th>identifier</th>\n",
       "    </tr>\n",
       "  </thead>\n",
       "  <tbody>\n",
       "    <tr>\n",
       "      <th>0</th>\n",
       "      <td>34.284892</td>\n",
       "      <td>-1.387712</td>\n",
       "      <td>3</td>\n",
       "      <td>4366.461723</td>\n",
       "      <td>0</td>\n",
       "      <td>0</td>\n",
       "      <td>0</td>\n",
       "      <td>1</td>\n",
       "    </tr>\n",
       "    <tr>\n",
       "      <th>1</th>\n",
       "      <td>32.078701</td>\n",
       "      <td>-5.079600</td>\n",
       "      <td>3</td>\n",
       "      <td>8973.961518</td>\n",
       "      <td>1</td>\n",
       "      <td>1</td>\n",
       "      <td>1</td>\n",
       "      <td>2</td>\n",
       "    </tr>\n",
       "    <tr>\n",
       "      <th>2</th>\n",
       "      <td>33.650000</td>\n",
       "      <td>-2.466667</td>\n",
       "      <td>1</td>\n",
       "      <td>6339.104344</td>\n",
       "      <td>3</td>\n",
       "      <td>3</td>\n",
       "      <td>3</td>\n",
       "      <td>3</td>\n",
       "    </tr>\n",
       "    <tr>\n",
       "      <th>3</th>\n",
       "      <td>29.619103</td>\n",
       "      <td>-4.898798</td>\n",
       "      <td>3</td>\n",
       "      <td>0.000000</td>\n",
       "      <td>5</td>\n",
       "      <td>5</td>\n",
       "      <td>6</td>\n",
       "      <td>4</td>\n",
       "    </tr>\n",
       "    <tr>\n",
       "      <th>4</th>\n",
       "      <td>29.619103</td>\n",
       "      <td>-4.898798</td>\n",
       "      <td>3</td>\n",
       "      <td>0.000000</td>\n",
       "      <td>6</td>\n",
       "      <td>6</td>\n",
       "      <td>5</td>\n",
       "      <td>4</td>\n",
       "    </tr>\n",
       "    <tr>\n",
       "      <th>5</th>\n",
       "      <td>38.340321</td>\n",
       "      <td>-6.225760</td>\n",
       "      <td>4</td>\n",
       "      <td>287.112621</td>\n",
       "      <td>10</td>\n",
       "      <td>10</td>\n",
       "      <td>10</td>\n",
       "      <td>5</td>\n",
       "    </tr>\n",
       "    <tr>\n",
       "      <th>6</th>\n",
       "      <td>29.619103</td>\n",
       "      <td>-4.898798</td>\n",
       "      <td>3</td>\n",
       "      <td>0.000000</td>\n",
       "      <td>12</td>\n",
       "      <td>12</td>\n",
       "      <td>5</td>\n",
       "      <td>4</td>\n",
       "    </tr>\n",
       "    <tr>\n",
       "      <th>7</th>\n",
       "      <td>39.799000</td>\n",
       "      <td>-7.850000</td>\n",
       "      <td>3</td>\n",
       "      <td>14422.968995</td>\n",
       "      <td>13</td>\n",
       "      <td>13</td>\n",
       "      <td>13</td>\n",
       "      <td>6</td>\n",
       "    </tr>\n",
       "    <tr>\n",
       "      <th>8</th>\n",
       "      <td>33.872120</td>\n",
       "      <td>-2.031722</td>\n",
       "      <td>3</td>\n",
       "      <td>0.557600</td>\n",
       "      <td>14</td>\n",
       "      <td>14</td>\n",
       "      <td>15</td>\n",
       "      <td>7</td>\n",
       "    </tr>\n",
       "  </tbody>\n",
       "</table>\n",
       "</div>"
      ],
      "text/plain": [
       "   longitude  latitude  georeliability      shortest  id  src  dst  identifier\n",
       "0  34.284892 -1.387712               3   4366.461723   0    0    0           1\n",
       "1  32.078701 -5.079600               3   8973.961518   1    1    1           2\n",
       "2  33.650000 -2.466667               1   6339.104344   3    3    3           3\n",
       "3  29.619103 -4.898798               3      0.000000   5    5    6           4\n",
       "4  29.619103 -4.898798               3      0.000000   6    6    5           4\n",
       "5  38.340321 -6.225760               4    287.112621  10   10   10           5\n",
       "6  29.619103 -4.898798               3      0.000000  12   12    5           4\n",
       "7  39.799000 -7.850000               3  14422.968995  13   13   13           6\n",
       "8  33.872120 -2.031722               3      0.557600  14   14   15           7"
      ]
     },
     "execution_count": 20,
     "metadata": {},
     "output_type": "execute_result"
    }
   ],
   "source": [
    "excerpt.merge(sample, on='id', how='left').head(9)"
   ]
  },
  {
   "cell_type": "code",
   "execution_count": 21,
   "id": "f7aa7d8d-c5ac-41e6-8fa6-e9ddde2cfb87",
   "metadata": {},
   "outputs": [],
   "source": [
    "focus = frame.merge(sample, on='id', how='left')"
   ]
  },
  {
   "cell_type": "code",
   "execution_count": 22,
   "id": "15eb764d-307a-4ff0-b157-9ba290c6e436",
   "metadata": {},
   "outputs": [
    {
     "name": "stdout",
     "output_type": "stream",
     "text": [
      "<class 'pandas.core.frame.DataFrame'>\n",
      "Int64Index: 668 entries, 0 to 667\n",
      "Data columns (total 31 columns):\n",
      " #   Column          Non-Null Count  Dtype  \n",
      "---  ------          --------------  -----  \n",
      " 0   iso3            668 non-null    object \n",
      " 1   iso2            668 non-null    object \n",
      " 2   admin1_id       645 non-null    float64\n",
      " 3   admin2_id       618 non-null    float64\n",
      " 4   iu_id           668 non-null    float64\n",
      " 5   site_id         245 non-null    float64\n",
      " 6   longitude       668 non-null    float64\n",
      " 7   latitude        668 non-null    float64\n",
      " 8   georeliability  668 non-null    int64  \n",
      " 9   location_type   367 non-null    object \n",
      " 10  survey_type     412 non-null    object \n",
      " 11  year            668 non-null    float64\n",
      " 12  age_start       358 non-null    float64\n",
      " 13  age_end         358 non-null    float64\n",
      " 14  hk_examined     668 non-null    int64  \n",
      " 15  hk_positive     668 non-null    int64  \n",
      " 16  asc_examined    668 non-null    int64  \n",
      " 17  asc_positive    668 non-null    int64  \n",
      " 18  tt_examined     668 non-null    int64  \n",
      " 19  tt_positive     668 non-null    int64  \n",
      " 20  quality         668 non-null    int64  \n",
      " 21  sn              668 non-null    int64  \n",
      " 22  hk_prevalence   667 non-null    float64\n",
      " 23  asc_prevalence  665 non-null    float64\n",
      " 24  tt_prevalence   665 non-null    float64\n",
      " 25  sth_prevalence  664 non-null    float64\n",
      " 26  shortest        668 non-null    float64\n",
      " 27  id              668 non-null    int64  \n",
      " 28  src             668 non-null    int64  \n",
      " 29  dst             668 non-null    int64  \n",
      " 30  identifier      668 non-null    int64  \n",
      "dtypes: float64(14), int64(13), object(4)\n",
      "memory usage: 167.0+ KB\n"
     ]
    }
   ],
   "source": [
    "focus.info()"
   ]
  },
  {
   "cell_type": "markdown",
   "id": "e25124f4-f75d-46be-9da3-7e5ff6e153cd",
   "metadata": {},
   "source": [
    "<br>\n",
    "<br>\n",
    "\n",
    "## Co&ouml;rdinates"
   ]
  },
  {
   "cell_type": "markdown",
   "id": "ca29ef59-24a5-42ea-a60f-cbbc3bf50146",
   "metadata": {},
   "source": [
    "Should each set of observations that have the same *new identification code* also have the same geographic co&ouml;rdinates?  Or, should their fractionally different values, if that be case, be kept? \n",
    "\n",
    "<br>"
   ]
  },
  {
   "cell_type": "code",
   "execution_count": 23,
   "id": "5e5984ad-7ab7-4bc1-b819-ffef4e3caebd",
   "metadata": {},
   "outputs": [
    {
     "name": "stdout",
     "output_type": "stream",
     "text": [
      "<class 'pandas.core.frame.DataFrame'>\n",
      "Int64Index: 668 entries, 0 to 667\n",
      "Data columns (total 4 columns):\n",
      " #   Column      Non-Null Count  Dtype  \n",
      "---  ------      --------------  -----  \n",
      " 0   longitude   668 non-null    float64\n",
      " 1   latitude    668 non-null    float64\n",
      " 2   identifier  668 non-null    int64  \n",
      " 3   year        668 non-null    float64\n",
      "dtypes: float64(3), int64(1)\n",
      "memory usage: 26.1 KB\n"
     ]
    }
   ],
   "source": [
    "example = focus[['longitude', 'latitude', 'identifier', 'year']].sort_values(by=['identifier', 'year'], axis=0, ascending=True)\n",
    "example.info()"
   ]
  },
  {
   "cell_type": "markdown",
   "id": "a6b979c6-e910-4394-8a09-245c3330d520",
   "metadata": {},
   "source": [
    "<br>\n",
    "\n",
    "The most recent co&ouml;rdinates per distinct identification code."
   ]
  },
  {
   "cell_type": "code",
   "execution_count": 24,
   "id": "3f96a0ae-7c0c-4c04-b6b7-551b82b0b4d4",
   "metadata": {},
   "outputs": [
    {
     "data": {
      "text/html": [
       "<div>\n",
       "<style scoped>\n",
       "    .dataframe tbody tr th:only-of-type {\n",
       "        vertical-align: middle;\n",
       "    }\n",
       "\n",
       "    .dataframe tbody tr th {\n",
       "        vertical-align: top;\n",
       "    }\n",
       "\n",
       "    .dataframe thead th {\n",
       "        text-align: right;\n",
       "    }\n",
       "</style>\n",
       "<table border=\"1\" class=\"dataframe\">\n",
       "  <thead>\n",
       "    <tr style=\"text-align: right;\">\n",
       "      <th></th>\n",
       "      <th>identifier</th>\n",
       "      <th>longitude</th>\n",
       "      <th>latitude</th>\n",
       "    </tr>\n",
       "  </thead>\n",
       "  <tbody>\n",
       "    <tr>\n",
       "      <th>0</th>\n",
       "      <td>1</td>\n",
       "      <td>34.284892</td>\n",
       "      <td>-1.387712</td>\n",
       "    </tr>\n",
       "    <tr>\n",
       "      <th>1</th>\n",
       "      <td>2</td>\n",
       "      <td>32.078701</td>\n",
       "      <td>-5.079600</td>\n",
       "    </tr>\n",
       "    <tr>\n",
       "      <th>2</th>\n",
       "      <td>3</td>\n",
       "      <td>33.650000</td>\n",
       "      <td>-2.466667</td>\n",
       "    </tr>\n",
       "    <tr>\n",
       "      <th>3</th>\n",
       "      <td>4</td>\n",
       "      <td>29.619103</td>\n",
       "      <td>-4.898798</td>\n",
       "    </tr>\n",
       "    <tr>\n",
       "      <th>4</th>\n",
       "      <td>5</td>\n",
       "      <td>38.340321</td>\n",
       "      <td>-6.225760</td>\n",
       "    </tr>\n",
       "    <tr>\n",
       "      <th>...</th>\n",
       "      <td>...</td>\n",
       "      <td>...</td>\n",
       "      <td>...</td>\n",
       "    </tr>\n",
       "    <tr>\n",
       "      <th>535</th>\n",
       "      <td>536</td>\n",
       "      <td>33.140301</td>\n",
       "      <td>-2.580750</td>\n",
       "    </tr>\n",
       "    <tr>\n",
       "      <th>536</th>\n",
       "      <td>537</td>\n",
       "      <td>38.847439</td>\n",
       "      <td>-6.586171</td>\n",
       "    </tr>\n",
       "    <tr>\n",
       "      <th>537</th>\n",
       "      <td>538</td>\n",
       "      <td>33.932637</td>\n",
       "      <td>-1.685413</td>\n",
       "    </tr>\n",
       "    <tr>\n",
       "      <th>538</th>\n",
       "      <td>539</td>\n",
       "      <td>38.984402</td>\n",
       "      <td>-5.119100</td>\n",
       "    </tr>\n",
       "    <tr>\n",
       "      <th>539</th>\n",
       "      <td>540</td>\n",
       "      <td>38.985066</td>\n",
       "      <td>-6.525852</td>\n",
       "    </tr>\n",
       "  </tbody>\n",
       "</table>\n",
       "<p>540 rows × 3 columns</p>\n",
       "</div>"
      ],
      "text/plain": [
       "     identifier  longitude  latitude\n",
       "0             1  34.284892 -1.387712\n",
       "1             2  32.078701 -5.079600\n",
       "2             3  33.650000 -2.466667\n",
       "3             4  29.619103 -4.898798\n",
       "4             5  38.340321 -6.225760\n",
       "..          ...        ...       ...\n",
       "535         536  33.140301 -2.580750\n",
       "536         537  38.847439 -6.586171\n",
       "537         538  33.932637 -1.685413\n",
       "538         539  38.984402 -5.119100\n",
       "539         540  38.985066 -6.525852\n",
       "\n",
       "[540 rows x 3 columns]"
      ]
     },
     "execution_count": 24,
     "metadata": {},
     "output_type": "execute_result"
    }
   ],
   "source": [
    "points = example[['longitude', 'latitude', 'identifier']].groupby(by='identifier').agg(lambda x: x.iloc[-1])\n",
    "points = points.copy().reset_index()\n",
    "points"
   ]
  }
 ],
 "metadata": {
  "kernelspec": {
   "display_name": "Python 3 (ipykernel)",
   "language": "python",
   "name": "python3"
  },
  "language_info": {
   "codemirror_mode": {
    "name": "ipython",
    "version": 3
   },
   "file_extension": ".py",
   "mimetype": "text/x-python",
   "name": "python",
   "nbconvert_exporter": "python",
   "pygments_lexer": "ipython3",
   "version": "3.8.13"
  }
 },
 "nbformat": 4,
 "nbformat_minor": 5
}
